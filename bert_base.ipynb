{
 "cells": [
  {
   "cell_type": "markdown",
   "metadata": {},
   "source": [
    "# Bert/Transformer-based model Finetuning: banking77 dataset"
   ]
  },
  {
   "cell_type": "markdown",
   "metadata": {},
   "source": [
    "## Packages"
   ]
  },
  {
   "cell_type": "code",
   "execution_count": 1,
   "metadata": {},
   "outputs": [
    {
     "name": "stderr",
     "output_type": "stream",
     "text": [
      "/home/dykos0508/.virtualenvs/torch_s/lib/python3.10/site-packages/tqdm/auto.py:21: TqdmWarning: IProgress not found. Please update jupyter and ipywidgets. See https://ipywidgets.readthedocs.io/en/stable/user_install.html\n",
      "  from .autonotebook import tqdm as notebook_tqdm\n"
     ]
    }
   ],
   "source": [
    "# Load packages\n",
    "from dotenv import load_dotenv\n",
    "\n",
    "load_dotenv()\n",
    "# Dataset\n",
    "from datasets import load_dataset\n",
    "# For EDA\n",
    "from collections import Counter\n",
    "import matplotlib.pyplot as plt\n",
    "# For Model training\n",
    "from transformers import AutoTokenizer\n",
    "from transformers import AutoModelForSequenceClassification\n",
    "from transformers import TrainingArguments, Trainer\n",
    "# For Evaluation\n",
    "import numpy as np\n",
    "from sklearn.metrics import precision_recall_fscore_support, accuracy_score"
   ]
  },
  {
   "cell_type": "markdown",
   "metadata": {},
   "source": [
    "## Dataset "
   ]
  },
  {
   "cell_type": "code",
   "execution_count": 2,
   "metadata": {},
   "outputs": [
    {
     "name": "stdout",
     "output_type": "stream",
     "text": [
      "DatasetDict({\n",
      "    train: Dataset({\n",
      "        features: ['text', 'label'],\n",
      "        num_rows: 10003\n",
      "    })\n",
      "    test: Dataset({\n",
      "        features: ['text', 'label'],\n",
      "        num_rows: 3080\n",
      "    })\n",
      "})\n"
     ]
    }
   ],
   "source": [
    "# Training info\n",
    "dataset_id = \"PolyAI/banking77\"  # Training dataset\n",
    "models = [\"bert-base-uncased\",\"bert-base-cased\",\"bert-large-uncased\",\"bert-large-cased\"]  # For tokenize and modeling\n",
    "\n",
    "# Load everythings for training\n",
    "dataset = load_dataset(dataset_id)\n",
    "\n",
    "# Check dataset\n",
    "print(dataset) # train: 10003 rows | test: 3080 rows"
   ]
  },
  {
   "cell_type": "code",
   "execution_count": 3,
   "metadata": {},
   "outputs": [],
   "source": [
    "lable_mapping_dict = {index:l for index,l in enumerate(dataset['train'].features['label'].names)}"
   ]
  },
  {
   "cell_type": "markdown",
   "metadata": {},
   "source": [
    "## Data Processing"
   ]
  },
  {
   "cell_type": "markdown",
   "metadata": {},
   "source": [
    "### Tokenization"
   ]
  },
  {
   "cell_type": "code",
   "execution_count": 4,
   "metadata": {},
   "outputs": [],
   "source": [
    "# tokenize函數 用來批次將資料轉換成input tokens\n",
    "def tokenize_function(data,model_id):\n",
    "    \n",
    "    tokenizer = AutoTokenizer.from_pretrained(model_id)\n",
    "    \n",
    "    return tokenizer(\n",
    "        data[\"text\"],\n",
    "        add_special_tokens=True, # Default = True [CLS], [SEP]\n",
    "        padding=\"max_length\", # 補值到模型可接受的最大值\n",
    "        max_length=64, # 設定裁切長度\n",
    "        #  truncation=True # 是否裁切(要設定max_length才會裁切)\n",
    "    )"
   ]
  },
  {
   "cell_type": "markdown",
   "metadata": {},
   "source": [
    "### Metrics"
   ]
  },
  {
   "cell_type": "code",
   "execution_count": 5,
   "metadata": {},
   "outputs": [],
   "source": [
    "def compute_metrics(pred):\n",
    "    labels = pred.label_ids\n",
    "    preds = pred.predictions.argmax(-1)\n",
    "    precision, recall, f1, _ = precision_recall_fscore_support(labels, preds, average='weighted')\n",
    "    acc = accuracy_score(labels, preds)\n",
    "    return {\n",
    "        'accuracy': acc,\n",
    "        'f1': f1,\n",
    "    }"
   ]
  },
  {
   "cell_type": "markdown",
   "metadata": {},
   "source": [
    "## Training"
   ]
  },
  {
   "cell_type": "code",
   "execution_count": 9,
   "metadata": {},
   "outputs": [],
   "source": [
    "results={}"
   ]
  },
  {
   "cell_type": "code",
   "execution_count": 10,
   "metadata": {},
   "outputs": [
    {
     "name": "stderr",
     "output_type": "stream",
     "text": [
      "Some weights of BertForSequenceClassification were not initialized from the model checkpoint at bert-base-uncased and are newly initialized: ['classifier.bias', 'classifier.weight']\n",
      "You should probably TRAIN this model on a down-stream task to be able to use it for predictions and inference.\n",
      "/home/dykos0508/.virtualenvs/torch_s/lib/python3.10/site-packages/transformers/training_args.py:1525: FutureWarning: `evaluation_strategy` is deprecated and will be removed in version 4.46 of 🤗 Transformers. Use `eval_strategy` instead\n",
      "  warnings.warn(\n",
      "Detected kernel version 5.4.0, which is below the recommended minimum of 5.5.0; this can cause the process to hang. It is recommended to upgrade the kernel to the minimum version or higher.\n"
     ]
    },
    {
     "name": "stdout",
     "output_type": "stream",
     "text": [
      "------------------------------------bert-base-uncased\n",
      "Total parameters: 109541453\n",
      "Trainable parameters: 109541453\n"
     ]
    },
    {
     "data": {
      "text/html": [
       "\n",
       "    <div>\n",
       "      \n",
       "      <progress value='2815' max='2815' style='width:300px; height:20px; vertical-align: middle;'></progress>\n",
       "      [2815/2815 17:02, Epoch 5/5]\n",
       "    </div>\n",
       "    <table border=\"1\" class=\"dataframe\">\n",
       "  <thead>\n",
       " <tr style=\"text-align: left;\">\n",
       "      <th>Epoch</th>\n",
       "      <th>Training Loss</th>\n",
       "      <th>Validation Loss</th>\n",
       "      <th>Accuracy</th>\n",
       "      <th>F1</th>\n",
       "    </tr>\n",
       "  </thead>\n",
       "  <tbody>\n",
       "    <tr>\n",
       "      <td>1</td>\n",
       "      <td>3.566100</td>\n",
       "      <td>1.798806</td>\n",
       "      <td>0.753247</td>\n",
       "      <td>0.725410</td>\n",
       "    </tr>\n",
       "    <tr>\n",
       "      <td>2</td>\n",
       "      <td>1.215000</td>\n",
       "      <td>1.073677</td>\n",
       "      <td>0.904096</td>\n",
       "      <td>0.903754</td>\n",
       "    </tr>\n",
       "    <tr>\n",
       "      <td>3</td>\n",
       "      <td>0.933600</td>\n",
       "      <td>1.009164</td>\n",
       "      <td>0.922078</td>\n",
       "      <td>0.921675</td>\n",
       "    </tr>\n",
       "    <tr>\n",
       "      <td>4</td>\n",
       "      <td>0.853200</td>\n",
       "      <td>0.986852</td>\n",
       "      <td>0.927073</td>\n",
       "      <td>0.926787</td>\n",
       "    </tr>\n",
       "    <tr>\n",
       "      <td>5</td>\n",
       "      <td>0.809200</td>\n",
       "      <td>0.979236</td>\n",
       "      <td>0.931069</td>\n",
       "      <td>0.931577</td>\n",
       "    </tr>\n",
       "  </tbody>\n",
       "</table><p>"
      ],
      "text/plain": [
       "<IPython.core.display.HTML object>"
      ]
     },
     "metadata": {},
     "output_type": "display_data"
    },
    {
     "name": "stderr",
     "output_type": "stream",
     "text": [
      "/home/dykos0508/.virtualenvs/torch_s/lib/python3.10/site-packages/sklearn/metrics/_classification.py:1531: UndefinedMetricWarning: Precision is ill-defined and being set to 0.0 in labels with no predicted samples. Use `zero_division` parameter to control this behavior.\n",
      "  _warn_prf(average, modifier, f\"{metric.capitalize()} is\", len(result))\n",
      "/home/dykos0508/.virtualenvs/torch_s/lib/python3.10/site-packages/sklearn/metrics/_classification.py:1531: UndefinedMetricWarning: Precision is ill-defined and being set to 0.0 in labels with no predicted samples. Use `zero_division` parameter to control this behavior.\n",
      "  _warn_prf(average, modifier, f\"{metric.capitalize()} is\", len(result))\n",
      "/home/dykos0508/.virtualenvs/torch_s/lib/python3.10/site-packages/sklearn/metrics/_classification.py:1531: UndefinedMetricWarning: Precision is ill-defined and being set to 0.0 in labels with no predicted samples. Use `zero_division` parameter to control this behavior.\n",
      "  _warn_prf(average, modifier, f\"{metric.capitalize()} is\", len(result))\n",
      "/home/dykos0508/.virtualenvs/torch_s/lib/python3.10/site-packages/sklearn/metrics/_classification.py:1531: UndefinedMetricWarning: Precision is ill-defined and being set to 0.0 in labels with no predicted samples. Use `zero_division` parameter to control this behavior.\n",
      "  _warn_prf(average, modifier, f\"{metric.capitalize()} is\", len(result))\n"
     ]
    },
    {
     "data": {
      "text/html": [
       "\n",
       "    <div>\n",
       "      \n",
       "      <progress value='97' max='97' style='width:300px; height:20px; vertical-align: middle;'></progress>\n",
       "      [97/97 00:22]\n",
       "    </div>\n",
       "    "
      ],
      "text/plain": [
       "<IPython.core.display.HTML object>"
      ]
     },
     "metadata": {},
     "output_type": "display_data"
    }
   ],
   "source": [
    "model_id = models[0]\n",
    "\n",
    "# Tokenize\n",
    "tokenized_datasets = dataset.map(lambda x: tokenize_function(x,model_id), batched=True) # 將dataset轉換為input tokens\n",
    "\n",
    "# Train-Valid-Test split\n",
    "train_test_split = tokenized_datasets[\"train\"].shuffle(seed=86).train_test_split(test_size=0.1, seed=86)\n",
    "train_dataset, valid_dataset = train_test_split[\"train\"], train_test_split[\"test\"]\n",
    "# Test dataset remains the same\n",
    "test_dataset = tokenized_datasets[\"test\"].shuffle(seed=86)\n",
    "\n",
    "# Load Model\n",
    "model = AutoModelForSequenceClassification.from_pretrained(model_id, num_labels=77)\n",
    "\n",
    "# 調整的訓練參數\n",
    "training_args = TrainingArguments(\n",
    "    output_dir=\"result_bert/{}\".format(model_id),\n",
    "    logging_dir='./logs',\n",
    "    evaluation_strategy=\"epoch\",         # 每個 epoch 評估一次\n",
    "    save_strategy=\"epoch\",               # 每個 epoch 保存一次模型\n",
    "    \n",
    "    learning_rate=5e-5,\n",
    "    per_device_train_batch_size=16,\n",
    "    per_device_eval_batch_size=32,\n",
    "    num_train_epochs=5,\n",
    "    \n",
    "    warmup_steps=500,\n",
    "    weight_decay=0.01,\n",
    "    logging_steps=200,\n",
    "    save_total_limit=2,                  # 最多保留2個模型checkpoint\n",
    "    load_best_model_at_end=True,         # 在訓練結束時加載最佳模型\n",
    "    metric_for_best_model=\"accuracy\",    # 根據準確率選擇最佳模型\n",
    "    label_smoothing_factor=0.1\n",
    ")\n",
    "\n",
    "print('------------------------------------{}'.format(model_id))\n",
    "# 計算參數總數和可訓練參數數量\n",
    "total_params = sum(p.numel() for p in model.parameters())\n",
    "trainable_params = sum(p.numel() for p in model.parameters() if p.requires_grad)\n",
    "\n",
    "print(f\"Total parameters: {total_params}\")\n",
    "print(f\"Trainable parameters: {trainable_params}\")\n",
    "\n",
    "# Set Trainer\n",
    "trainer1 = Trainer(\n",
    "    model=model,\n",
    "    args=training_args,\n",
    "    train_dataset=train_dataset,\n",
    "    eval_dataset=valid_dataset ,\n",
    "    compute_metrics=compute_metrics\n",
    ")\n",
    "\n",
    "trainer1.train()\n",
    "results[model_id] = trainer1.evaluate(test_dataset)"
   ]
  },
  {
   "cell_type": "code",
   "execution_count": 11,
   "metadata": {},
   "outputs": [
    {
     "name": "stderr",
     "output_type": "stream",
     "text": [
      "Map:   0%|          | 0/10003 [00:00<?, ? examples/s]/home/dykos0508/.virtualenvs/torch_s/lib/python3.10/site-packages/transformers/tokenization_utils_base.py:1601: FutureWarning: `clean_up_tokenization_spaces` was not set. It will be set to `True` by default. This behavior will be depracted in transformers v4.45, and will be then set to `False` by default. For more details check this issue: https://github.com/huggingface/transformers/issues/31884\n",
      "  warnings.warn(\n",
      "Map: 100%|██████████| 10003/10003 [00:04<00:00, 2431.36 examples/s]\n",
      "Map: 100%|██████████| 3080/3080 [00:01<00:00, 2270.32 examples/s]\n",
      "Some weights of BertForSequenceClassification were not initialized from the model checkpoint at bert-base-cased and are newly initialized: ['classifier.bias', 'classifier.weight']\n",
      "You should probably TRAIN this model on a down-stream task to be able to use it for predictions and inference.\n",
      "/home/dykos0508/.virtualenvs/torch_s/lib/python3.10/site-packages/transformers/training_args.py:1525: FutureWarning: `evaluation_strategy` is deprecated and will be removed in version 4.46 of 🤗 Transformers. Use `eval_strategy` instead\n",
      "  warnings.warn(\n",
      "Detected kernel version 5.4.0, which is below the recommended minimum of 5.5.0; this can cause the process to hang. It is recommended to upgrade the kernel to the minimum version or higher.\n"
     ]
    },
    {
     "name": "stdout",
     "output_type": "stream",
     "text": [
      "------------------------------------bert-base-cased\n",
      "Total parameters: 108369485\n",
      "Trainable parameters: 108369485\n"
     ]
    },
    {
     "data": {
      "text/html": [
       "\n",
       "    <div>\n",
       "      \n",
       "      <progress value='2815' max='2815' style='width:300px; height:20px; vertical-align: middle;'></progress>\n",
       "      [2815/2815 16:49, Epoch 5/5]\n",
       "    </div>\n",
       "    <table border=\"1\" class=\"dataframe\">\n",
       "  <thead>\n",
       " <tr style=\"text-align: left;\">\n",
       "      <th>Epoch</th>\n",
       "      <th>Training Loss</th>\n",
       "      <th>Validation Loss</th>\n",
       "      <th>Accuracy</th>\n",
       "      <th>F1</th>\n",
       "    </tr>\n",
       "  </thead>\n",
       "  <tbody>\n",
       "    <tr>\n",
       "      <td>1</td>\n",
       "      <td>3.185500</td>\n",
       "      <td>1.576709</td>\n",
       "      <td>0.776224</td>\n",
       "      <td>0.758308</td>\n",
       "    </tr>\n",
       "    <tr>\n",
       "      <td>2</td>\n",
       "      <td>1.163300</td>\n",
       "      <td>1.070966</td>\n",
       "      <td>0.899101</td>\n",
       "      <td>0.900079</td>\n",
       "    </tr>\n",
       "    <tr>\n",
       "      <td>3</td>\n",
       "      <td>0.924600</td>\n",
       "      <td>1.011657</td>\n",
       "      <td>0.926074</td>\n",
       "      <td>0.925368</td>\n",
       "    </tr>\n",
       "    <tr>\n",
       "      <td>4</td>\n",
       "      <td>0.839300</td>\n",
       "      <td>0.972451</td>\n",
       "      <td>0.942058</td>\n",
       "      <td>0.941487</td>\n",
       "    </tr>\n",
       "    <tr>\n",
       "      <td>5</td>\n",
       "      <td>0.798300</td>\n",
       "      <td>0.971478</td>\n",
       "      <td>0.937063</td>\n",
       "      <td>0.936831</td>\n",
       "    </tr>\n",
       "  </tbody>\n",
       "</table><p>"
      ],
      "text/plain": [
       "<IPython.core.display.HTML object>"
      ]
     },
     "metadata": {},
     "output_type": "display_data"
    },
    {
     "name": "stderr",
     "output_type": "stream",
     "text": [
      "/home/dykos0508/.virtualenvs/torch_s/lib/python3.10/site-packages/sklearn/metrics/_classification.py:1531: UndefinedMetricWarning: Precision is ill-defined and being set to 0.0 in labels with no predicted samples. Use `zero_division` parameter to control this behavior.\n",
      "  _warn_prf(average, modifier, f\"{metric.capitalize()} is\", len(result))\n",
      "/home/dykos0508/.virtualenvs/torch_s/lib/python3.10/site-packages/sklearn/metrics/_classification.py:1531: UndefinedMetricWarning: Precision is ill-defined and being set to 0.0 in labels with no predicted samples. Use `zero_division` parameter to control this behavior.\n",
      "  _warn_prf(average, modifier, f\"{metric.capitalize()} is\", len(result))\n",
      "/home/dykos0508/.virtualenvs/torch_s/lib/python3.10/site-packages/sklearn/metrics/_classification.py:1531: UndefinedMetricWarning: Precision is ill-defined and being set to 0.0 in labels with no predicted samples. Use `zero_division` parameter to control this behavior.\n",
      "  _warn_prf(average, modifier, f\"{metric.capitalize()} is\", len(result))\n",
      "/home/dykos0508/.virtualenvs/torch_s/lib/python3.10/site-packages/sklearn/metrics/_classification.py:1531: UndefinedMetricWarning: Precision is ill-defined and being set to 0.0 in labels with no predicted samples. Use `zero_division` parameter to control this behavior.\n",
      "  _warn_prf(average, modifier, f\"{metric.capitalize()} is\", len(result))\n"
     ]
    },
    {
     "data": {
      "text/html": [
       "\n",
       "    <div>\n",
       "      \n",
       "      <progress value='97' max='97' style='width:300px; height:20px; vertical-align: middle;'></progress>\n",
       "      [97/97 00:22]\n",
       "    </div>\n",
       "    "
      ],
      "text/plain": [
       "<IPython.core.display.HTML object>"
      ]
     },
     "metadata": {},
     "output_type": "display_data"
    }
   ],
   "source": [
    "model_id = models[1]\n",
    "\n",
    "# Tokenize\n",
    "tokenized_datasets = dataset.map(lambda x: tokenize_function(x,model_id), batched=True) # 將dataset轉換為input tokens\n",
    "\n",
    "# Train-Valid-Test split\n",
    "train_test_split = tokenized_datasets[\"train\"].shuffle(seed=86).train_test_split(test_size=0.1, seed=86)\n",
    "train_dataset, valid_dataset = train_test_split[\"train\"], train_test_split[\"test\"]\n",
    "# Test dataset remains the same\n",
    "test_dataset = tokenized_datasets[\"test\"].shuffle(seed=86)\n",
    "\n",
    "# Load Model\n",
    "model = AutoModelForSequenceClassification.from_pretrained(model_id, num_labels=77)\n",
    "\n",
    "# 調整的訓練參數\n",
    "training_args = TrainingArguments(\n",
    "    output_dir=\"result_bert/{}\".format(model_id),\n",
    "    logging_dir='./logs',\n",
    "    evaluation_strategy=\"epoch\",         # 每個 epoch 評估一次\n",
    "    save_strategy=\"epoch\",               # 每個 epoch 保存一次模型\n",
    "    \n",
    "    learning_rate=5e-5,\n",
    "    per_device_train_batch_size=16,\n",
    "    per_device_eval_batch_size=32,\n",
    "    num_train_epochs=5,\n",
    "    \n",
    "    warmup_steps=500,\n",
    "    weight_decay=0.01,\n",
    "    logging_steps=200,\n",
    "    save_total_limit=2,                  # 最多保留2個模型checkpoint\n",
    "    load_best_model_at_end=True,         # 在訓練結束時加載最佳模型\n",
    "    metric_for_best_model=\"accuracy\",    # 根據準確率選擇最佳模型\n",
    "    label_smoothing_factor=0.1\n",
    ")\n",
    "\n",
    "print('------------------------------------{}'.format(model_id))\n",
    "# 計算參數總數和可訓練參數數量\n",
    "total_params = sum(p.numel() for p in model.parameters())\n",
    "trainable_params = sum(p.numel() for p in model.parameters() if p.requires_grad)\n",
    "\n",
    "print(f\"Total parameters: {total_params}\")\n",
    "print(f\"Trainable parameters: {trainable_params}\")\n",
    "\n",
    "# Set Trainer\n",
    "trainer2 = Trainer(\n",
    "    model=model,\n",
    "    args=training_args,\n",
    "    train_dataset=train_dataset,\n",
    "    eval_dataset=valid_dataset ,\n",
    "    compute_metrics=compute_metrics\n",
    ")\n",
    "\n",
    "trainer2.train()\n",
    "results[model_id] = trainer2.evaluate(test_dataset)"
   ]
  },
  {
   "cell_type": "code",
   "execution_count": 12,
   "metadata": {},
   "outputs": [
    {
     "data": {
      "text/plain": [
       "{'bert-base-uncased': {'eval_loss': 0.9899234771728516,\n",
       "  'eval_accuracy': 0.9334415584415584,\n",
       "  'eval_f1': 0.9332756310648983,\n",
       "  'eval_runtime': 22.5818,\n",
       "  'eval_samples_per_second': 136.393,\n",
       "  'eval_steps_per_second': 4.295,\n",
       "  'epoch': 5.0},\n",
       " 'bert-base-cased': {'eval_loss': 0.9882162809371948,\n",
       "  'eval_accuracy': 0.9321428571428572,\n",
       "  'eval_f1': 0.9320377781510449,\n",
       "  'eval_runtime': 22.6068,\n",
       "  'eval_samples_per_second': 136.242,\n",
       "  'eval_steps_per_second': 4.291,\n",
       "  'epoch': 5.0}}"
      ]
     },
     "execution_count": 12,
     "metadata": {},
     "output_type": "execute_result"
    }
   ],
   "source": [
    "results"
   ]
  },
  {
   "cell_type": "code",
   "execution_count": null,
   "metadata": {},
   "outputs": [],
   "source": []
  }
 ],
 "metadata": {
  "kernelspec": {
   "display_name": "torch_s",
   "language": "python",
   "name": "python3"
  },
  "language_info": {
   "codemirror_mode": {
    "name": "ipython",
    "version": 3
   },
   "file_extension": ".py",
   "mimetype": "text/x-python",
   "name": "python",
   "nbconvert_exporter": "python",
   "pygments_lexer": "ipython3",
   "version": "3.10.14"
  }
 },
 "nbformat": 4,
 "nbformat_minor": 2
}
